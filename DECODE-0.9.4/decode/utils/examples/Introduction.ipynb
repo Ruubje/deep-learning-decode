{
 "cells": [
  {
   "cell_type": "markdown",
   "metadata": {},
   "source": [
    "# DECODE - General Introduction\n",
    "If you plan to install and use DECODE locally we recommend going through this notebook to get familiar with the framework.\n",
    "\n",
    "We make highly use of the CUDA accelerated library PyTorch which is used internally almost everywhere."
   ]
  },
  {
   "cell_type": "code",
   "execution_count": 1,
   "metadata": {},
   "outputs": [],
   "source": [
    "import decode\n",
    "import decode.utils  # interfaces to outside world which are not loaded by default\n",
    "import torch"
   ]
  },
  {
   "cell_type": "markdown",
   "metadata": {},
   "source": [
    "## EmitterSet"
   ]
  },
  {
   "cell_type": "markdown",
   "metadata": {},
   "source": [
    "At the core of DECODE is the EmitterSet. It has a lot of important functionalities which one should know about. In an interactive Python session (such as this notebook or in the console) you can get more information of all implementations by `help([...])`, e.g.\n",
    "> `help(decode.EmitterSet)`\n"
   ]
  },
  {
   "cell_type": "code",
   "execution_count": 2,
   "metadata": {},
   "outputs": [
    {
     "name": "stdout",
     "output_type": "stream",
     "text": [
      "EmitterSet\n",
      "::num emitters: 2\n",
      "::xy unit: px\n",
      "::px size: tensor([100., 100.])\n",
      "::frame range: 0 - 100\n",
      "::spanned volume: [15. 10.  0.] - [ 30.  15. 500.]\n"
     ]
    }
   ],
   "source": [
    "# construct an EmitterSet\n",
    "em = decode.EmitterSet(\n",
    "    xyz=torch.tensor([[15., 15., 0.], [30., 10., 500.]]),\n",
    "    phot=torch.tensor([1000, 500.]),\n",
    "    frame_ix=torch.tensor([0, 100]),\n",
    "    xy_unit='px', # z is always in nm\n",
    "    px_size=(100., 100.))  # not strictly needed but recommended in order to access xyz in both \n",
    "\n",
    "print(em)  # get some info on the set of emitters"
   ]
  },
  {
   "cell_type": "markdown",
   "metadata": {},
   "source": [
    "The coordinates can (and should) explicitly accessed with a unit as em.xyz_px or em.xyz_nm"
   ]
  },
  {
   "cell_type": "code",
   "execution_count": 3,
   "metadata": {},
   "outputs": [
    {
     "data": {
      "text/plain": [
       "tensor([[1500., 1500.,    0.],\n",
       "        [3000., 1000.,  500.]])"
      ]
     },
     "execution_count": 3,
     "metadata": {},
     "output_type": "execute_result"
    }
   ],
   "source": [
    "em.xyz_nm"
   ]
  },
  {
   "cell_type": "code",
   "execution_count": 4,
   "metadata": {},
   "outputs": [
    {
     "name": "stdout",
     "output_type": "stream",
     "text": [
      "EmitterSet\n",
      "::num emitters: 2\n",
      "::xy unit: nm\n",
      "::px size: tensor([100., 100.])\n",
      "::frame range: 0 - 100\n",
      "::spanned volume: [0.04451036 0.10670823 0.05269134] - [0.62980366 0.7278199  0.96657085]\n"
     ]
    }
   ],
   "source": [
    "# you can also set coordinates in a new unit which will lead to automatic conversion\n",
    "em.xyz_nm = torch.rand(2, 3)\n",
    "\n",
    "print(em)  # you see now that the internal storage has changed from px units to nm"
   ]
  },
  {
   "cell_type": "markdown",
   "metadata": {},
   "source": [
    "### Export, Save and Load Emitters\n",
    "We feature several methods to export, save, load emitters. \n",
    "1. To interact with another software the most simple format is exporting as a csv file, however this is not recommended for long term use. If you need assistance with the design of an interface to your software, please write us.\n",
    "\n",
    "2. For fast read/write and smaller files we recommend using the `.save()` method which saves the emitterset as a dictionary of PyTorch tensors and some meta data. Note that this does not have long term \n",
    "\n",
    "> CSV Export and Import"
   ]
  },
  {
   "cell_type": "code",
   "execution_count": 5,
   "metadata": {},
   "outputs": [
    {
     "data": {
      "text/html": [
       "<div>\n",
       "<style scoped>\n",
       "    .dataframe tbody tr th:only-of-type {\n",
       "        vertical-align: middle;\n",
       "    }\n",
       "\n",
       "    .dataframe tbody tr th {\n",
       "        vertical-align: top;\n",
       "    }\n",
       "\n",
       "    .dataframe thead th {\n",
       "        text-align: right;\n",
       "    }\n",
       "</style>\n",
       "<table border=\"1\" class=\"dataframe\">\n",
       "  <thead>\n",
       "    <tr style=\"text-align: right;\">\n",
       "      <th></th>\n",
       "      <th>x</th>\n",
       "      <th>y</th>\n",
       "      <th>z</th>\n",
       "      <th>phot</th>\n",
       "      <th>frame_ix</th>\n",
       "      <th>id</th>\n",
       "      <th>prob</th>\n",
       "      <th>bg</th>\n",
       "      <th>phot_cr</th>\n",
       "      <th>bg_cr</th>\n",
       "      <th>phot_sig</th>\n",
       "      <th>bg_sig</th>\n",
       "      <th>xy_unit</th>\n",
       "      <th>x_cr</th>\n",
       "      <th>y_cr</th>\n",
       "      <th>z_cr</th>\n",
       "      <th>x_sig</th>\n",
       "      <th>y_sig</th>\n",
       "      <th>z_sig</th>\n",
       "    </tr>\n",
       "  </thead>\n",
       "  <tbody>\n",
       "    <tr>\n",
       "      <th>0</th>\n",
       "      <td>0.629804</td>\n",
       "      <td>0.727820</td>\n",
       "      <td>0.966571</td>\n",
       "      <td>1000.0</td>\n",
       "      <td>0</td>\n",
       "      <td>-1</td>\n",
       "      <td>1.0</td>\n",
       "      <td>NaN</td>\n",
       "      <td>NaN</td>\n",
       "      <td>NaN</td>\n",
       "      <td>NaN</td>\n",
       "      <td>NaN</td>\n",
       "      <td>nm</td>\n",
       "      <td>NaN</td>\n",
       "      <td>NaN</td>\n",
       "      <td>NaN</td>\n",
       "      <td>NaN</td>\n",
       "      <td>NaN</td>\n",
       "      <td>NaN</td>\n",
       "    </tr>\n",
       "    <tr>\n",
       "      <th>1</th>\n",
       "      <td>0.044510</td>\n",
       "      <td>0.106708</td>\n",
       "      <td>0.052691</td>\n",
       "      <td>500.0</td>\n",
       "      <td>100</td>\n",
       "      <td>-1</td>\n",
       "      <td>1.0</td>\n",
       "      <td>NaN</td>\n",
       "      <td>NaN</td>\n",
       "      <td>NaN</td>\n",
       "      <td>NaN</td>\n",
       "      <td>NaN</td>\n",
       "      <td>nm</td>\n",
       "      <td>NaN</td>\n",
       "      <td>NaN</td>\n",
       "      <td>NaN</td>\n",
       "      <td>NaN</td>\n",
       "      <td>NaN</td>\n",
       "      <td>NaN</td>\n",
       "    </tr>\n",
       "  </tbody>\n",
       "</table>\n",
       "</div>"
      ],
      "text/plain": [
       "          x         y         z    phot  frame_ix  id  prob  bg  phot_cr  \\\n",
       "0  0.629804  0.727820  0.966571  1000.0         0  -1   1.0 NaN      NaN   \n",
       "1  0.044510  0.106708  0.052691   500.0       100  -1   1.0 NaN      NaN   \n",
       "\n",
       "   bg_cr  phot_sig  bg_sig xy_unit  x_cr  y_cr  z_cr  x_sig  y_sig  z_sig  \n",
       "0    NaN       NaN     NaN      nm   NaN   NaN   NaN    NaN    NaN    NaN  \n",
       "1    NaN       NaN     NaN      nm   NaN   NaN   NaN    NaN    NaN    NaN  "
      ]
     },
     "execution_count": 5,
     "metadata": {},
     "output_type": "execute_result"
    }
   ],
   "source": [
    "# csv export and import\n",
    "# write to a csv file\n",
    "decode.utils.emitter_io.save_csv('dummy.csv', em.to_dict())  # convert emitter to dictionary\n",
    "\n",
    "# have a look at the csv\n",
    "import pandas as pd\n",
    "\n",
    "pd.read_csv('dummy.csv')"
   ]
  },
  {
   "cell_type": "markdown",
   "metadata": {},
   "source": [
    "Loading emitters from csv is also possible. You need to specify a mapping with keys at least: `x, y, z, phot, frame_ix`\n",
    ">We provide some 'batteries included' mappings, e.g. for the superres fight club challenge format."
   ]
  },
  {
   "cell_type": "code",
   "execution_count": 7,
   "metadata": {},
   "outputs": [
    {
     "data": {
      "text/plain": [
       "{'x': 'xnano',\n",
       " 'y': 'ynano',\n",
       " 'z': 'znano',\n",
       " 'frame_ix': 'frame',\n",
       " 'phot': 'intensity ',\n",
       " 'id': 'Ground-truth'}"
      ]
     },
     "execution_count": 7,
     "metadata": {},
     "output_type": "execute_result"
    }
   ],
   "source": [
    "# this is the challenge mapping\n",
    "decode.utils.emitter_io.challenge_mapping"
   ]
  },
  {
   "cell_type": "code",
   "execution_count": 8,
   "metadata": {},
   "outputs": [],
   "source": [
    "# uncomment the following lines and update the path if you have the challenge activations at hand\n",
    "\n",
    "# em_challenge = decode.utils.emitter_io.load_csv('path_to_challenge_activations.csv', \n",
    "#                                                 mapping=decode.utils.emitter_io.challenge_mapping)"
   ]
  },
  {
   "cell_type": "markdown",
   "metadata": {},
   "source": [
    "> Save and Load via binary file"
   ]
  },
  {
   "cell_type": "code",
   "execution_count": 9,
   "metadata": {},
   "outputs": [],
   "source": [
    "em.save('dummy.pt')  # we recommend file extension .pt but do not enforce this in any way"
   ]
  },
  {
   "cell_type": "code",
   "execution_count": 10,
   "metadata": {},
   "outputs": [],
   "source": [
    "# load an EmitterSet from binary file by static method .load()\n",
    "em_clone = decode.EmitterSet.load('dummy.pt')"
   ]
  },
  {
   "cell_type": "markdown",
   "metadata": {},
   "source": [
    "### Operators and Helpers on EmitterSets\n",
    "We implemented a couple of helpers for convenience"
   ]
  },
  {
   "cell_type": "code",
   "execution_count": 11,
   "metadata": {},
   "outputs": [],
   "source": [
    "# we support boolean indexing of emitters\n",
    "subset = em[[True, False]]\n",
    "\n",
    "# e.g. get emitter on specific frame\n",
    "em_sub = em[em.frame_ix == 0]\n",
    "\n",
    "# e.g. emitters with certain photon count\n",
    "em_bright = em[em.phot > 600.]"
   ]
  },
  {
   "cell_type": "code",
   "execution_count": 13,
   "metadata": {},
   "outputs": [
    {
     "data": {
      "text/plain": [
       "True"
      ]
     },
     "execution_count": 13,
     "metadata": {},
     "output_type": "execute_result"
    }
   ],
   "source": [
    "# check equality of two sets of emitters \n",
    "# warning: requires exact equality, i.e. even the order of coordinates must be the same\n",
    "em == em_clone"
   ]
  },
  {
   "cell_type": "code",
   "execution_count": 14,
   "metadata": {},
   "outputs": [
    {
     "name": "stdout",
     "output_type": "stream",
     "text": [
      "EmitterSet\n",
      "::num emitters: 1\n",
      "::xy unit: nm\n",
      "::px size: tensor([100., 100.])\n",
      "::frame range: 0 - 0\n",
      "::spanned volume: [0.62980366 0.7278199  0.96657085] - [0.62980366 0.7278199  0.96657085]\n",
      "EmitterSet\n",
      "::num emitters: 1\n",
      "::xy unit: nm\n",
      "::px size: tensor([100., 100.])\n",
      "::frame range: 100 - 100\n",
      "::spanned volume: [0.04451036 0.10670823 0.05269134] - [0.04451036 0.10670823 0.05269134]\n"
     ]
    },
    {
     "data": {
      "text/plain": [
       "[None, None]"
      ]
     },
     "execution_count": 14,
     "metadata": {},
     "output_type": "execute_result"
    }
   ],
   "source": [
    "# iterate over emitters in set\n",
    "[print(e) for e in em]"
   ]
  },
  {
   "cell_type": "code",
   "execution_count": 19,
   "metadata": {},
   "outputs": [],
   "source": [
    "# split emitterset in frames, indices are inclusive, ix_low=0, ix_up=2 will output a list of length 3\n",
    "em_split = em.split_in_frames(ix_low=0, ix_up=10)  # outputs lists of EmitterSets per frame"
   ]
  },
  {
   "cell_type": "code",
   "execution_count": 20,
   "metadata": {},
   "outputs": [],
   "source": [
    "# concatenate multiple emittersets together\n",
    "em_cat = decode.EmitterSet.cat(em_split)"
   ]
  },
  {
   "cell_type": "markdown",
   "metadata": {},
   "source": [
    "### Sampling Emitters\n",
    "We provide some conveniences to sample or construct emitters"
   ]
  },
  {
   "cell_type": "code",
   "execution_count": 21,
   "metadata": {},
   "outputs": [
    {
     "name": "stdout",
     "output_type": "stream",
     "text": [
      "EmitterSet\n",
      "::num emitters: 200\n",
      "::xy unit: px\n",
      "::px size: None\n",
      "::frame range: 0 - 0\n",
      "::spanned volume: [0.00279999 0.0878315  0.37545204] - [31.814877 31.997015 31.991457]\n"
     ]
    }
   ],
   "source": [
    "em_random = decode.RandomEmitterSet(200)  # outputs 200 random emitters, see help(decode.RandomEmitterSet) for more information\n",
    "print(em_random)"
   ]
  },
  {
   "cell_type": "markdown",
   "metadata": {},
   "source": [
    "### Plotting Emitters in 2D and 3D"
   ]
  },
  {
   "cell_type": "code",
   "execution_count": 22,
   "metadata": {},
   "outputs": [
    {
     "data": {
      "image/png": "[encoded data removed]",
      "text/plain": [
       "<Figure size 432x288 with 1 Axes>"
      ]
     },
     "metadata": {
      "needs_background": "light"
     },
     "output_type": "display_data"
    },
    {
     "data": {
      "image/png": "[encoded data removed]",
      "text/plain": [
       "<Figure size 432x288 with 1 Axes>"
      ]
     },
     "metadata": {
      "needs_background": "light"
     },
     "output_type": "display_data"
    }
   ],
   "source": [
    "import matplotlib.pyplot as plt\n",
    "\n",
    "em_fuzzy = decode.RandomEmitterSet(200)\n",
    "\n",
    "decode.plot.PlotCoordinates(em_fuzzy.xyz_px).plot()\n",
    "plt.show()\n",
    "\n",
    "decode.plot.PlotCoordinates3D(em_fuzzy.xyz_px).plot()\n",
    "plt.show()"
   ]
  },
  {
   "cell_type": "code",
   "execution_count": null,
   "metadata": {},
   "outputs": [],
   "source": []
  }
 ],
 "metadata": {
  "kernelspec": {
   "display_name": "Python [conda env:decode_env]",
   "language": "python",
   "name": "conda-env-decode_env-py"
  },
  "language_info": {
   "codemirror_mode": {
    "name": "ipython",
    "version": 3
   },
   "file_extension": ".py",
   "mimetype": "text/x-python",
   "name": "python",
   "nbconvert_exporter": "python",
   "pygments_lexer": "ipython3",
   "version": "3.8.6"
  }
 },
 "nbformat": 4,
 "nbformat_minor": 4
}
